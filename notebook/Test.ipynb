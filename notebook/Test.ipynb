{
 "cells": [
  {
   "cell_type": "markdown",
   "metadata": {},
   "source": [
    "## RingBuffer"
   ]
  },
  {
   "cell_type": "code",
   "execution_count": 1,
   "metadata": {},
   "outputs": [],
   "source": [
    "class RingBuffer:\n",
    "    def __init__(self, capacity):\n",
    "        self.capacity = capacity\n",
    "        self.current = 0\n",
    "        self.max = [None for i in range(capacity)]\n",
    "\n",
    "    def append(self, item):\n",
    "        self.max[self.current] = item\n",
    "        self.current += 1\n",
    "        if self.current > self.capacity -1:\n",
    "            self.current = 0\n",
    "#         self.data.pop(0)\n",
    "#         self.data.append(item)\n",
    "\n",
    "    def get(self):\n",
    "        return [ii for ii in self.max if ii is not None]"
   ]
  },
  {
   "cell_type": "code",
   "execution_count": 2,
   "metadata": {},
   "outputs": [],
   "source": [
    "buffer = RingBuffer(3)"
   ]
  },
  {
   "cell_type": "code",
   "execution_count": 3,
   "metadata": {},
   "outputs": [
    {
     "data": {
      "text/plain": [
       "[]"
      ]
     },
     "execution_count": 3,
     "metadata": {},
     "output_type": "execute_result"
    }
   ],
   "source": [
    "buffer.get()   # should return []"
   ]
  },
  {
   "cell_type": "code",
   "execution_count": 4,
   "metadata": {},
   "outputs": [],
   "source": [
    "buffer.append('a')"
   ]
  },
  {
   "cell_type": "code",
   "execution_count": 5,
   "metadata": {},
   "outputs": [],
   "source": [
    "buffer.append('b')"
   ]
  },
  {
   "cell_type": "code",
   "execution_count": 6,
   "metadata": {},
   "outputs": [],
   "source": [
    "buffer.append('c')"
   ]
  },
  {
   "cell_type": "code",
   "execution_count": 7,
   "metadata": {},
   "outputs": [
    {
     "data": {
      "text/plain": [
       "['a', 'b', 'c']"
      ]
     },
     "execution_count": 7,
     "metadata": {},
     "output_type": "execute_result"
    }
   ],
   "source": [
    "buffer.get()   # should return ['a', 'b', 'c']"
   ]
  },
  {
   "cell_type": "code",
   "execution_count": 8,
   "metadata": {},
   "outputs": [],
   "source": [
    "# # 'd' overwrites the oldest value in the ring buffer, which is 'a'\n",
    "buffer.append('d')"
   ]
  },
  {
   "cell_type": "code",
   "execution_count": 9,
   "metadata": {},
   "outputs": [
    {
     "data": {
      "text/plain": [
       "['d', 'b', 'c']"
      ]
     },
     "execution_count": 9,
     "metadata": {},
     "output_type": "execute_result"
    }
   ],
   "source": [
    "buffer.get()   # should return ['d', 'b', 'c']"
   ]
  },
  {
   "cell_type": "code",
   "execution_count": 10,
   "metadata": {},
   "outputs": [],
   "source": [
    "buffer.append('e')\n",
    "buffer.append('f')"
   ]
  },
  {
   "cell_type": "code",
   "execution_count": 11,
   "metadata": {},
   "outputs": [
    {
     "data": {
      "text/plain": [
       "['d', 'e', 'f']"
      ]
     },
     "execution_count": 11,
     "metadata": {},
     "output_type": "execute_result"
    }
   ],
   "source": [
    "buffer.get()   # should return ['d', 'e', 'f']"
   ]
  },
  {
   "cell_type": "markdown",
   "metadata": {},
   "source": [
    "## Duplicate Names"
   ]
  },
  {
   "cell_type": "code",
   "execution_count": 12,
   "metadata": {},
   "outputs": [
    {
     "name": "stdout",
     "output_type": "stream",
     "text": [
      "64 duplicates:\n",
      "\n",
      "Hallie Vazquez, Peyton Lloyd, Daphne Hamilton, Jaden Hawkins, Dulce Hines, Piper Hamilton, Marisol Morris, Josie Dawson, Giancarlo Warren, Amiah Hobbs, Jaydin Sawyer, Franklin Cooper, Diego Chaney, Carley Gallegos, Ahmad Watts, Malcolm Nelson, Malcolm Tucker, Grace Bridges, Luciana Ford, Davion Arias, Pablo Berg, Jadyn Mays, Marley Rivers, Abel Newman, Sanai Harrison, Cloe Norris, Clay Wilkinson, Salma Meza, Addison Clarke, Nelson Acevedo, Devyn Aguirre, Winston Austin, Carsen Tyler, Hayley Morgan, Aleah Valentine, Camryn Doyle, Josie Cole, Nathalie Little, Leia Foley, Jordin Schneider, Justine Soto, Lennon Hunt, Zara Suarez, Kale Sawyer, William Maldonado, Irvin Krause, Maliyah Serrano, Selah Hansen, Kameron Osborne, Alvaro Robbins, Leon Cochran, Andre Carrillo, Dashawn Green, Eden Howe, Logan Morrow, Ralph Roth, Trace Gates, Megan Porter, Aydan Calderon, Raven Christensen, Ashlee Randall, Victoria Roach, River Johnson, Ali Collier\n",
      "\n",
      "\n",
      "runtime: 8.409412860870361 seconds\n"
     ]
    }
   ],
   "source": [
    "import time\n",
    "\n",
    "start_time = time.time()\n",
    "\n",
    "f = open('../names/names_1.txt', 'r')\n",
    "names_1 = f.read().split(\"\\n\")  # List containing 10000 names\n",
    "f.close()\n",
    "\n",
    "f = open('../names/names_2.txt', 'r')\n",
    "names_2 = f.read().split(\"\\n\")  # List containing 10000 names\n",
    "f.close()\n",
    "\n",
    "duplicates = []  # Return the list of duplicates in this data structure\n",
    "\n",
    "# Replace the nested for loops below with your improvements\n",
    "for name_1 in names_1:\n",
    "    for name_2 in names_2:\n",
    "        if name_1 == name_2:\n",
    "            duplicates.append(name_1)\n",
    "\n",
    "end_time = time.time()\n",
    "print (f\"{len(duplicates)} duplicates:\\n\\n{', '.join(duplicates)}\\n\\n\")\n",
    "print (f\"runtime: {end_time - start_time} seconds\")\n",
    "\n",
    "# ---------- Stretch Goal -----------\n",
    "# Python has built-in tools that allow for a very efficient approach to this problem\n",
    "# What's the best time you can accomplish?  Thare are no restrictions on techniques or data\n",
    "# structures, but you may not import any additional libraries that you did not write yourself."
   ]
  },
  {
   "cell_type": "code",
   "execution_count": 13,
   "metadata": {},
   "outputs": [],
   "source": [
    "class BSTNode:\n",
    "    def __init__(self, value):\n",
    "        self.value = value\n",
    "        self.left = None\n",
    "        self.right = None\n",
    "\n",
    "    def insert(self, value):\n",
    "        '''Insert the given value into the tree'''\n",
    "        # RECURSIVE\n",
    "        if value >= self.value:  # go right (dupes go to the right)\n",
    "            if self.right is None:\n",
    "                self.right = BSTNode(value)\n",
    "                return\n",
    "            else:\n",
    "                return self.right.insert(value) # recursive call\n",
    "        else:\n",
    "            value < self.value\n",
    "            if self.left is None:  # go left\n",
    "                self.left = BSTNode(value)\n",
    "                return\n",
    "            else:\n",
    "                return self.left.insert(value)\n",
    "\n",
    "        # ITERATIVE\n",
    "        # while not at bottom level of tree\n",
    "        # if value < root, go left\n",
    "            # if left child is None\n",
    "                # add here \n",
    "                # exit loop\n",
    "\n",
    "        # if value >= root, go right (dupes go to the right)\n",
    "            # if right child is None\n",
    "                # add here\n",
    "\n",
    "    def contains(self, target):\n",
    "        '''Return True if the tree contains the value, return False if it does not'''\n",
    "        if self.value == target:\n",
    "            return True\n",
    "        elif target > self.value:\n",
    "            if self.right is None:\n",
    "                return False\n",
    "            else:\n",
    "                return self.right.contains(target)\n",
    "        else:\n",
    "            if self.left is None:\n",
    "                return False\n",
    "            else:\n",
    "                return self.left.contains(target)\n",
    "\n",
    "    def get_max(self):\n",
    "        '''Return the maximum value found in the tree'''\n",
    "        if self.right is None:\n",
    "            return self.value\n",
    "        # go right until you cannot go anymore\n",
    "        else:\n",
    "            return self.right.get_max()\n",
    "        # return value at far right\n",
    "\n",
    "    def for_each(self, fn):\n",
    "        '''Call the function `fn` on the value of each node'''\n",
    "        fn(self.value)\n",
    "        # if self is not None:\n",
    "            # return\n",
    "\n",
    "        # base case - no children\n",
    "        if self.left is None and self.right is None:\n",
    "            return\n",
    "\n",
    "        # recursive case - 1 or more children\n",
    "        if self.left:\n",
    "            self.left.for_each(fn)\n",
    "        if self.right:\n",
    "            self.right.for_each(fn)\n",
    "\n",
    "        \n",
    "\n",
    "    # Part 2 -----------------------\n",
    "\n",
    "    # Print all the values in order from low to high\n",
    "    # Hint:  Use a recursive, depth first traversal\n",
    "    def in_order_print(self):\n",
    "        # Recursive - place your print statement in between recursive calls\n",
    "        # then explore left & right subtree\n",
    "        if self.left is not None:\n",
    "            self.left.in_order_print()\n",
    "        print(self.value)\n",
    "        if self.right is not None:\n",
    "            self.right.in_order_print()\n",
    "\n",
    "    # Print the value of every node, starting with the given node,\n",
    "    # in an iterative breadth first traversal\n",
    "    def bft_print(self):  # using Queue\n",
    "        q = Queue()\n",
    "        current = self\n",
    "        q.enqueue(self)\n",
    "        while current:\n",
    "            current = q.dequeue()\n",
    "            if current:\n",
    "                if current.left:\n",
    "                    q.enqueue(current.left)\n",
    "                if current.right:\n",
    "                    q.enqueue(current.right)\n",
    "\n",
    "                print(current.value)\n",
    "\n",
    "    # Print the value of every node, starting with the given node,\n",
    "    # in an iterative depth first traversal\n",
    "    def dft_print(self):  # using stack\n",
    "        # create a stack to keep track of nodes we are processing\n",
    "        # push self in to the stack\n",
    "        print(self.value)\n",
    "        if self.left is not None:\n",
    "            self.left.dft_print()\n",
    "        if self.right is not None:\n",
    "            self.right.dft_print()\n",
    "\n",
    "        # while something still in the stack (not done processing all nodes)\n",
    "            # use existing 'for_each()' as a reference for traversal logic\n",
    "            # push when we START, pop when a node is DONE\n",
    "            # and don't forget to call 'print()'\n",
    "\n",
    "    # Stretch Goals -------------------------\n",
    "    # Note: Research may be required\n",
    "\n",
    "    # Print Pre-order recursive DFT\n",
    "    def pre_order_dft(self):\n",
    "        print(self.value)\n",
    "        if self.left is not None:\n",
    "            self.left.pre_order_dft()\n",
    "        if self.right is not None:\n",
    "            self.right.pre_order_dft()\n",
    "\n",
    "    # Print Post-order recursive DFT\n",
    "    def post_order_dft(self):\n",
    "        if self.left is not None:\n",
    "            self.left.post_order_dft()\n",
    "        if self.right is not None:\n",
    "            self.right.post_order_dft()\n",
    "        print(self.value)\n",
    "\n"
   ]
  },
  {
   "cell_type": "code",
   "execution_count": 20,
   "metadata": {},
   "outputs": [
    {
     "name": "stdout",
     "output_type": "stream",
     "text": [
      "64 duplicates:\n",
      "\n",
      "Ahmad Watts, Franklin Cooper, Jaydin Sawyer, Sanai Harrison, Jaden Hawkins, Cloe Norris, Pablo Berg, Giancarlo Warren, Camryn Doyle, Aleah Valentine, Grace Bridges, Daphne Hamilton, Irvin Krause, Justine Soto, Josie Cole, Winston Austin, Ashlee Randall, Leon Cochran, Kale Sawyer, Alvaro Robbins, Malcolm Tucker, Jadyn Mays, Josie Dawson, Clay Wilkinson, Logan Morrow, Salma Meza, Trace Gates, Hayley Morgan, Dulce Hines, Abel Newman, Nathalie Little, Zara Suarez, Leia Foley, William Maldonado, Marley Rivers, Addison Clarke, Kameron Osborne, Aydan Calderon, Ali Collier, Marisol Morris, Peyton Lloyd, Eden Howe, Victoria Roach, Dashawn Green, Carley Gallegos, Selah Hansen, Hallie Vazquez, Piper Hamilton, Lennon Hunt, Andre Carrillo, Devyn Aguirre, River Johnson, Maliyah Serrano, Diego Chaney, Davion Arias, Nelson Acevedo, Malcolm Nelson, Raven Christensen, Luciana Ford, Amiah Hobbs, Megan Porter, Carsen Tyler, Jordin Schneider, Ralph Roth\n",
      "\n",
      "\n",
      "runtime: 0.16922926902770996 seconds\n"
     ]
    }
   ],
   "source": [
    "import time\n",
    "\n",
    "start_time = time.time()\n",
    "\n",
    "f = open('../names/names_1.txt', 'r')\n",
    "names_1 = f.read().split(\"\\n\")  # List containing 10000 names\n",
    "f.close()\n",
    "\n",
    "\n",
    "f = open('../names/names_2.txt', 'r')\n",
    "names_2 = f.read().split(\"\\n\")  # List containing 10000 names\n",
    "f.close()\n",
    "\n",
    "duplicates = []\n",
    "\n",
    "bst1 = BSTNode('names_1')\n",
    "for name in names_1:\n",
    "    bst1.insert(name)\n",
    "for name in names_2:\n",
    "    if bst1.contains(name):\n",
    "        duplicates.append(name)\n",
    "\n",
    "\n",
    "end_time = time.time()\n",
    "print (f\"{len(duplicates)} duplicates:\\n\\n{', '.join(duplicates)}\\n\\n\")\n",
    "print (f\"runtime: {end_time - start_time} seconds\")"
   ]
  },
  {
   "cell_type": "markdown",
   "metadata": {},
   "source": [
    "## Reverse List"
   ]
  },
  {
   "cell_type": "code",
   "execution_count": 59,
   "metadata": {},
   "outputs": [],
   "source": [
    "class Node:\n",
    "    def __init__(self, value=None, next_node=None):\n",
    "        self.value = value\n",
    "        self.next_node = next_node\n",
    "\n",
    "    def get_value(self):\n",
    "        return self.value\n",
    "\n",
    "    def get_next(self):\n",
    "        return self.next_node\n",
    "\n",
    "    def set_next(self, new_next):\n",
    "        self.next_node = new_next\n",
    "\n",
    "class LinkedList:\n",
    "    def __init__(self):\n",
    "        self.head = None\n",
    "\n",
    "    def add_to_head(self, value):\n",
    "        node = Node(value)\n",
    "\n",
    "        if self.head is not None:\n",
    "            node.set_next(self.head)\n",
    "\n",
    "        self.head = node\n",
    "\n",
    "    def contains(self, value):\n",
    "        if not self.head:\n",
    "            return False\n",
    "\n",
    "        current = self.head\n",
    "\n",
    "        while current:\n",
    "            if current.get_value() == value:\n",
    "                return True\n",
    "\n",
    "            current = current.get_next()\n",
    "\n",
    "        return False\n",
    "\n",
    "    def reverse_list(self, node, prev):\n",
    "        if node != None:\n",
    "            self.head = prev\n",
    "        else:\n",
    "            temp = node.next_node\n",
    "            node.next_node = prev\n",
    "            prev = node\n",
    "            node = temp\n"
   ]
  },
  {
   "cell_type": "code",
   "execution_count": 60,
   "metadata": {},
   "outputs": [],
   "source": [
    "l = LinkedList()"
   ]
  },
  {
   "cell_type": "code",
   "execution_count": 61,
   "metadata": {},
   "outputs": [],
   "source": [
    "l.add_to_head(4)"
   ]
  },
  {
   "cell_type": "code",
   "execution_count": 62,
   "metadata": {},
   "outputs": [],
   "source": [
    "l.add_to_head(5)\n",
    "l.add_to_head(6)\n",
    "l.add_to_head(7)"
   ]
  },
  {
   "cell_type": "code",
   "execution_count": 63,
   "metadata": {},
   "outputs": [
    {
     "data": {
      "text/plain": [
       "True"
      ]
     },
     "execution_count": 63,
     "metadata": {},
     "output_type": "execute_result"
    }
   ],
   "source": [
    "l.contains(6)"
   ]
  },
  {
   "cell_type": "code",
   "execution_count": 65,
   "metadata": {},
   "outputs": [],
   "source": [
    "l.reverse_list(2,3)"
   ]
  },
  {
   "cell_type": "code",
   "execution_count": null,
   "metadata": {},
   "outputs": [],
   "source": [
    "    def reverse_list(self):#, node, prev):\n",
    "        prev = None\n",
    "        current = self.head\n",
    "        while current is not None:\n",
    "            temp = current.next_node\n",
    "            current.next_node = prev\n",
    "            prev = current\n",
    "            current = temp\n",
    "        self.head = prev"
   ]
  },
  {
   "cell_type": "code",
   "execution_count": null,
   "metadata": {},
   "outputs": [],
   "source": []
  },
  {
   "cell_type": "code",
   "execution_count": null,
   "metadata": {},
   "outputs": [],
   "source": []
  },
  {
   "cell_type": "code",
   "execution_count": null,
   "metadata": {},
   "outputs": [],
   "source": []
  },
  {
   "cell_type": "code",
   "execution_count": 86,
   "metadata": {},
   "outputs": [],
   "source": [
    "'''Single Linked List Items'''\n",
    "\n",
    "'''Single Linked List Items'''\n",
    "\n",
    "class Node:\n",
    "    def __init__(self, value):\n",
    "        self.value = value\n",
    "        self.next_node = None\n",
    "        \n",
    "    def get_value(self):\n",
    "        return self.value\n",
    "\n",
    "    def get_next_node(self):\n",
    "        return self.next_node\n",
    "\n",
    "    def set_next_node(self, new_next):\n",
    "        self.next_node = new_next\n",
    "\n",
    "'''Creating single linked List Items'''\n",
    "\n",
    "class LinkedList:\n",
    "    def __init__(self):\n",
    "        self.head = None\n",
    "        self.tail = None\n",
    "        \n",
    "    def traverse_list(self):\n",
    "        # if list is empty it returns 'print'\n",
    "        if self.head is None:\n",
    "            print(\"List has no element\")\n",
    "            return\n",
    "        else:\n",
    "            # otherwise it will print the value\n",
    "            current = self.head\n",
    "            while current is not None:\n",
    "                print(current.value , \" \")\n",
    "                current = current.next_node\n",
    "\n",
    "    \n",
    "    def add_to_head(self, value):\n",
    "        new_node = Node(value)\n",
    "        if self.head is None:\n",
    "            self.head = new_node\n",
    "            self.tail = new_node\n",
    "        else:\n",
    "            new_node.set_next_node(self.head)\n",
    "            self.head = new_node\n",
    "\n",
    "            \n",
    "    def add_to_tail(self, value):\n",
    "        new_node = Node(value)\n",
    "        if self.head is None:\n",
    "            self.head = new_node\n",
    "            self.tail = new_node\n",
    "#             return\n",
    "#         n = self.head\n",
    "#         while n.next_node is not None:\n",
    "#             n = n.next_node\n",
    "#         n.next_node = new_node\n",
    "        else:\n",
    "            self.tail.set_next_node(new_node)\n",
    "            self.tail = new_node\n",
    "        \n",
    "        \n",
    "    def add_after_item(self, x, value):\n",
    "\n",
    "        n = self.head\n",
    "        print(n.next_node)\n",
    "        while n is not None:\n",
    "            if n.value == x:\n",
    "                break\n",
    "            n = n.next_node\n",
    "        if n is None:\n",
    "            print(\"item not in the list\")\n",
    "        else:\n",
    "            new_node = Node(value)\n",
    "            new_node.next_node = n.next_node\n",
    "            n.next_node = new_node\n",
    "            \n",
    "            \n",
    "    def add_before_item(self, x, value):\n",
    "        # check if the list is empty\n",
    "        if self.head is None:\n",
    "            print(\"List has no element\")\n",
    "            return\n",
    "        # check if the element is located at the first index\n",
    "        if x == self.head.value:\n",
    "            new_node = Node(value)\n",
    "            new_node.next_node = self.head\n",
    "            self.head = new_node\n",
    "            return\n",
    "\n",
    "        n = self.head\n",
    "        print(n.next_node)\n",
    "        while n.next_node is not None:\n",
    "            if n.next_node.value == x:\n",
    "                break\n",
    "            n = n.next_node\n",
    "        if n.next_node is None:\n",
    "            print(\"item not in the list\")\n",
    "        else:\n",
    "            new_node = Node(value)\n",
    "            new_node.next_node = n.next_node\n",
    "            n.next_node = new_node\n",
    "            \n",
    "            \n",
    "    def add_at_index(self, index, value):\n",
    "        if index == 1:\n",
    "            new_node = Node(value)\n",
    "            new_node.next_node = self.head\n",
    "            self.head = new_node\n",
    "        i = 1\n",
    "        n = self.head\n",
    "        while i < index-1 and n is not None:\n",
    "            n = n.next_node\n",
    "            i = i+1\n",
    "        if n is None:\n",
    "            print(\"Index out of bound\")\n",
    "        else: \n",
    "            new_node = Node(value)\n",
    "            new_node.next_node = n.next_node\n",
    "            n.next_node = new_node\n",
    "            \n",
    "\n",
    "    def get_count(self):\n",
    "        if self.head is None:\n",
    "            return 0\n",
    "        n = self.head\n",
    "        count = 0\n",
    "        while n is not None:\n",
    "            count = count + 1\n",
    "            n = n.next_node\n",
    "        return count\n",
    "    \n",
    "    \n",
    "    def search_item(self, x):\n",
    "        if self.head is None:\n",
    "            print(\"List has no elements\")\n",
    "            return\n",
    "        n = self.head\n",
    "        while n is not None:\n",
    "            if n.value == x:\n",
    "                print(\"Item found\")\n",
    "                return True\n",
    "            n = n.next_node\n",
    "        print(\"item not found\")\n",
    "        return False\n",
    "\n",
    "\n",
    "    def make_new_list(self):\n",
    "        nums = int(input(\"How many nodes do you want to create: \"))\n",
    "        if nums == 0:\n",
    "            return\n",
    "        for _ in range(nums):\n",
    "            value = int(input(\"Enter the value for the node: \"))\n",
    "            self.add_to_tail(value)\n",
    "            \n",
    "\n",
    "#     def remove_head(self):\n",
    "#         if self.head is None:\n",
    "#             print(\"The list has no element to delete\")\n",
    "#             return \n",
    "#         self.head = self.head.next_node\n",
    "\n",
    "    def remove_head(self):\n",
    "        if self.head is None:\n",
    "            return None\n",
    "        else:\n",
    "            if self.head.get_next_node() is None:\n",
    "                h = self.head\n",
    "                self.head = None\n",
    "                self.tail = None\n",
    "                return h.get_value()\n",
    "            value = self.head.get_value()\n",
    "            self.head = self.head.get_next_node()\n",
    "            return value\n",
    "        \n",
    "\n",
    "    def remove_tail(self):\n",
    "        # if self.head is None:\n",
    "        #     print(\"The list has no element to delete\")\n",
    "        #     return\n",
    "\n",
    "        # n = self.head\n",
    "        # while n.next_node.next_node is not None:\n",
    "        #     n = n.next_node\n",
    "        # n.next_node = None\n",
    "        if self.head is None:\n",
    "            return None\n",
    "        value = self.tail.value\n",
    "        if self.head is self.tail:\n",
    "            self.head = None\n",
    "            self.tail = None\n",
    "            return value\n",
    "        current = self.head\n",
    "        while current.next_node.get_next_node() is not None:\n",
    "            current = current.next_node\n",
    "        self.tail = current\n",
    "        return value\n",
    "\n",
    "        \n",
    "    def delete_element_by_value(self, x):\n",
    "        if self.head is None:\n",
    "            print(\"The list has no element to delete\")\n",
    "            return\n",
    "\n",
    "        # Deleting first node \n",
    "        if self.head.value == x:\n",
    "            self.head = self.head.next_node\n",
    "            return\n",
    "\n",
    "        n = self.head\n",
    "        while n.next_node is not None:\n",
    "            if n.next_node.value == x:\n",
    "                break\n",
    "            n = n.next_node\n",
    "\n",
    "        if n.next_node is None:\n",
    "            print(\"item not found in the list\")\n",
    "        else:\n",
    "            n.rnext_nodeef = n.next_node.next_node\n",
    "            \n",
    "            \n",
    "    def reverse_linkedlist(self):\n",
    "        prev = None\n",
    "        current = self.head\n",
    "        while current is not None:\n",
    "            next = current.next_node\n",
    "            current.next_node = prev\n",
    "            prev = current\n",
    "            current = next\n",
    "        self.head = prev\n",
    "        \n",
    "    def reverse_list(self, node, prev):\n",
    "        if node != None:\n",
    "            self.head = prev\n",
    "        else:\n",
    "            temp = node.next_node\n",
    "            node.next_node = prev\n",
    "            prev = node\n",
    "            node = temp\n",
    "\n",
    "\n",
    "    # def get_max(self):\n",
    "    #     if self.head is None:\n",
    "    #         return None\n",
    "    #     cur_node = self.head\n",
    "    #     max_value = 0\n",
    "    #     while cur_node is not None:\n",
    "    #         if cur_node.get_value() > max_value:\n",
    "    #             max_value = cur_node.get_value()\n",
    "    #     return max_value\n",
    "\n"
   ]
  },
  {
   "cell_type": "code",
   "execution_count": 87,
   "metadata": {},
   "outputs": [
    {
     "name": "stdout",
     "output_type": "stream",
     "text": [
      "1  \n",
      "2  \n",
      "3  \n",
      "4  \n",
      "5  \n",
      "6  \n"
     ]
    }
   ],
   "source": [
    "my_list = LinkedList()\n",
    "my_list.add_to_head(1)\n",
    "my_list.add_to_tail(2)\n",
    "my_list.add_to_tail(3)\n",
    "my_list.add_to_tail(4)\n",
    "my_list.add_to_tail(5)\n",
    "my_list.add_to_tail(6)\n",
    "my_list.traverse_list()\n",
    "# my_list.get_count()\n",
    "# my_list.search_item(11)\n",
    "# my_list.remove_head()\n",
    "# my_list.remove_tail()\n",
    "# my_list.delete_element_by_value(11)\n",
    "# my_list.reverse_linkedlist()\n",
    "\n"
   ]
  },
  {
   "cell_type": "code",
   "execution_count": 88,
   "metadata": {},
   "outputs": [],
   "source": [
    "my_list.reverse_linkedlist()"
   ]
  },
  {
   "cell_type": "code",
   "execution_count": 89,
   "metadata": {},
   "outputs": [
    {
     "name": "stdout",
     "output_type": "stream",
     "text": [
      "6  \n",
      "5  \n",
      "4  \n",
      "3  \n",
      "2  \n",
      "1  \n"
     ]
    }
   ],
   "source": [
    "my_list.traverse_list()"
   ]
  },
  {
   "cell_type": "code",
   "execution_count": 90,
   "metadata": {},
   "outputs": [],
   "source": [
    "my_list.reverse_list(3,7)"
   ]
  },
  {
   "cell_type": "code",
   "execution_count": 91,
   "metadata": {},
   "outputs": [
    {
     "ename": "AttributeError",
     "evalue": "'int' object has no attribute 'value'",
     "output_type": "error",
     "traceback": [
      "\u001b[0;31m---------------------------------------------------------------------------\u001b[0m",
      "\u001b[0;31mAttributeError\u001b[0m                            Traceback (most recent call last)",
      "\u001b[0;32m<ipython-input-91-7593884c9eca>\u001b[0m in \u001b[0;36m<module>\u001b[0;34m\u001b[0m\n\u001b[0;32m----> 1\u001b[0;31m \u001b[0mmy_list\u001b[0m\u001b[0;34m.\u001b[0m\u001b[0mtraverse_list\u001b[0m\u001b[0;34m(\u001b[0m\u001b[0;34m)\u001b[0m\u001b[0;34m\u001b[0m\u001b[0m\n\u001b[0m",
      "\u001b[0;32m<ipython-input-86-24071b3134e1>\u001b[0m in \u001b[0;36mtraverse_list\u001b[0;34m(self)\u001b[0m\n\u001b[1;32m     33\u001b[0m             \u001b[0mcurrent\u001b[0m \u001b[0;34m=\u001b[0m \u001b[0mself\u001b[0m\u001b[0;34m.\u001b[0m\u001b[0mhead\u001b[0m\u001b[0;34m\u001b[0m\u001b[0m\n\u001b[1;32m     34\u001b[0m             \u001b[0;32mwhile\u001b[0m \u001b[0mcurrent\u001b[0m \u001b[0;32mis\u001b[0m \u001b[0;32mnot\u001b[0m \u001b[0;32mNone\u001b[0m\u001b[0;34m:\u001b[0m\u001b[0;34m\u001b[0m\u001b[0m\n\u001b[0;32m---> 35\u001b[0;31m                 \u001b[0mprint\u001b[0m\u001b[0;34m(\u001b[0m\u001b[0mcurrent\u001b[0m\u001b[0;34m.\u001b[0m\u001b[0mvalue\u001b[0m \u001b[0;34m,\u001b[0m \u001b[0;34m\" \"\u001b[0m\u001b[0;34m)\u001b[0m\u001b[0;34m\u001b[0m\u001b[0m\n\u001b[0m\u001b[1;32m     36\u001b[0m                 \u001b[0mcurrent\u001b[0m \u001b[0;34m=\u001b[0m \u001b[0mcurrent\u001b[0m\u001b[0;34m.\u001b[0m\u001b[0mnext_node\u001b[0m\u001b[0;34m\u001b[0m\u001b[0m\n\u001b[1;32m     37\u001b[0m \u001b[0;34m\u001b[0m\u001b[0m\n",
      "\u001b[0;31mAttributeError\u001b[0m: 'int' object has no attribute 'value'"
     ]
    }
   ],
   "source": [
    "my_list.traverse_list()"
   ]
  },
  {
   "cell_type": "code",
   "execution_count": null,
   "metadata": {},
   "outputs": [],
   "source": []
  }
 ],
 "metadata": {
  "kernelspec": {
   "display_name": "U4-S1-NLP (Python3)",
   "language": "python",
   "name": "u4-s1-nlp"
  },
  "language_info": {
   "codemirror_mode": {
    "name": "ipython",
    "version": 3
   },
   "file_extension": ".py",
   "mimetype": "text/x-python",
   "name": "python",
   "nbconvert_exporter": "python",
   "pygments_lexer": "ipython3",
   "version": "3.7.0"
  }
 },
 "nbformat": 4,
 "nbformat_minor": 2
}
